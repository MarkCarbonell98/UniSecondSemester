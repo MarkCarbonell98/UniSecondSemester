{
 "cells": [
  {
   "cell_type": "code",
   "execution_count": 119,
   "metadata": {},
   "outputs": [
    {
     "name": "stdout",
     "output_type": "stream",
     "text": [
      "[0, 1, 2, 3, 4]\n",
      "[0, 0, 0, 0, 0]\n"
     ]
    }
   ],
   "source": [
    "size=5\n",
    "anchor = list(range(size))\n",
    "rank = [0]*size\n",
    "print (anchor)\n",
    "print (rank)"
   ]
  },
  {
   "cell_type": "code",
   "execution_count": 120,
   "metadata": {},
   "outputs": [
    {
     "name": "stdout",
     "output_type": "stream",
     "text": [
      "[1, 1, 2, 3, 4]\n",
      "[0, 1, 0, 0, 0]\n"
     ]
    }
   ],
   "source": [
    "def union(x,y,anchor,rank):\n",
    "\n",
    "#  find_set ohne Pfadkompression       \n",
    "    def find_set(x):\n",
    "        while anchor[x]!=x: #suche bis anchor[x] gleich x ist\n",
    "            x=anchor[x]\n",
    "        return x\n",
    "\n",
    "#  find_set mit Pfadkompression   \n",
    "#     def find_set(x):\n",
    "#         if anchor[x]!=x: #suche bis anchor[x] gleich x ist\n",
    "#             anchor[x]=find_set(anchor[x]) # Pfadkompression\n",
    "#         return anchor[x]\n",
    "\n",
    "    def link(x,y):\n",
    "        if rank[x] > rank[y]:\n",
    "            anchor[y] = x\n",
    "        else: \n",
    "            anchor[x] = y\n",
    "            if rank[x] == rank[y]:\n",
    "                rank[y] += 1\n",
    "\n",
    "    ax= find_set(x)\n",
    "    ay= find_set(y)\n",
    "    if ax!=ay:\n",
    "        link(ax,ay)\n",
    "    \n",
    " \n",
    "union(0,1,anchor,rank)\n",
    "print (anchor)\n",
    "print (rank)"
   ]
  },
  {
   "cell_type": "code",
   "execution_count": 121,
   "metadata": {},
   "outputs": [
    {
     "name": "stdout",
     "output_type": "stream",
     "text": [
      "[1, 1, 1, 3, 4]\n",
      "[0, 1, 0, 0, 0]\n"
     ]
    }
   ],
   "source": [
    "union(1,2,anchor,rank)\n",
    "print (anchor)\n",
    "print (rank)"
   ]
  },
  {
   "cell_type": "code",
   "execution_count": 122,
   "metadata": {},
   "outputs": [
    {
     "name": "stdout",
     "output_type": "stream",
     "text": [
      "[1, 1, 1, 4, 4]\n",
      "[0, 1, 0, 0, 1]\n"
     ]
    }
   ],
   "source": [
    "union(3,4,anchor,rank)\n",
    "print (anchor)\n",
    "print (rank)"
   ]
  },
  {
   "cell_type": "code",
   "execution_count": 123,
   "metadata": {},
   "outputs": [
    {
     "name": "stdout",
     "output_type": "stream",
     "text": [
      "[1, 1, 1, 4, 1]\n",
      "[0, 2, 0, 0, 1]\n"
     ]
    }
   ],
   "source": [
    "union(3,1,anchor,rank)\n",
    "print (anchor)\n",
    "print (rank)"
   ]
  },
  {
   "cell_type": "code",
   "execution_count": 124,
   "metadata": {},
   "outputs": [
    {
     "name": "stdout",
     "output_type": "stream",
     "text": [
      "[1, 1, 1, 4, 1]\n",
      "[0, 2, 0, 0, 1]\n"
     ]
    }
   ],
   "source": [
    "union(3,1,anchor,rank)\n",
    "print (anchor)\n",
    "print (rank)"
   ]
  },
  {
   "cell_type": "code",
   "execution_count": 115,
   "metadata": {},
   "outputs": [
    {
     "data": {
      "text/plain": [
       "[1, 1, 1, 4, 4, 4, 4]"
      ]
     },
     "execution_count": 115,
     "metadata": {},
     "output_type": "execute_result"
    }
   ],
   "source": [
    "# Zusammenhaengende Komponenten\n",
    "graph_2k = [[1], [0,2], [1],     [4,6], [3,5], [4], [3]]\n",
    "graph_1k = [[1], [0,2], [1,3], [2,4,6], [3,5], [4], [3]]\n",
    "\n",
    "def connectedComponentsUnionFind(graph):\n",
    "    anchor = list(range(len(graph)))  # anchor = [0,1,2,3, ...]\n",
    "    rank = [0]*len(graph)             # rank = [0,0,0,...]  \n",
    "    for u in range(len(graph)):       # fuer alle Knoten\n",
    "        for v in graph[u]:            # fuer alle adjanzenten Knoten/Kanten\n",
    "            #if (v > u):               # Es reicht, wenn jede Kante einmal verarbeitet wird\n",
    "                union(u,v,anchor,rank)\n",
    "    \n",
    "    return anchor\n",
    "\n",
    "connectedComponentsUnionFind(graph_2k)"
   ]
  }
 ],
 "metadata": {
  "kernelspec": {
   "display_name": "Python 3",
   "language": "python",
   "name": "python3"
  },
  "language_info": {
   "codemirror_mode": {
    "name": "ipython",
    "version": 3
   },
   "file_extension": ".py",
   "mimetype": "text/x-python",
   "name": "python",
   "nbconvert_exporter": "python",
   "pygments_lexer": "ipython3",
   "version": "3.7.1"
  }
 },
 "nbformat": 4,
 "nbformat_minor": 2
}
