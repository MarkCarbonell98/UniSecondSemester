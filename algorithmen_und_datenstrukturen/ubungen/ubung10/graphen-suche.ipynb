{
 "cells": [
  {
   "cell_type": "code",
   "execution_count": 1,
   "metadata": {},
   "outputs": [
    {
     "name": "stdout",
     "output_type": "stream",
     "text": [
      "6\n",
      "7\n",
      "3\n",
      "4\n",
      "5\n",
      "2\n",
      "1\n"
     ]
    }
   ],
   "source": [
    " \n",
    "def dfs(graph, startnode):\n",
    "    visited = [False]*len(graph)  # Flags, welche Knoten bereits besucht wurden\n",
    "    \n",
    "    def visit(node):              # rekursive Hilfsfunktion, die den gegebenen Knoten und dessen Nachbarn besucht\n",
    "        if not visited[node]:     # Besuche node, wenn er noch nicht besucht wurde\n",
    "            visited[node] = True  # Markiere node als besucht\n",
    "            #print (node)            # Ausgabe der Knotennummer - pre-order\n",
    "            for neighbor in graph[node]:   # Besuche rekursiv die Nachbarn\n",
    "                visit(neighbor)\n",
    "            print (node)            # Ausgabe der Knotennummer - post-order    \n",
    "    \n",
    "    visit(startnode)\n",
    "\n",
    "graph=[[], [2,3], [4,5], [4,6,7], [2, 3], [2], [3], [3]]\n",
    "dfs(graph, 1)\n",
    "    "
   ]
  },
  {
   "cell_type": "code",
   "execution_count": 15,
   "metadata": {},
   "outputs": [
    {
     "data": {
      "text/plain": [
       "([None, None, 1, 4, 2, 2, 3, 3], [1, 2, 4, 3, 6, 7, 5], [6, 7, 3, 4, 5, 2, 1])"
      ]
     },
     "execution_count": 15,
     "metadata": {},
     "output_type": "execute_result"
    }
   ],
   "source": [
    "def dfs_info(graph, startnode):\n",
    "    visited = [False]*len(graph)    # wurde ein Knoten bereits besucht?\n",
    "    parents = [None]*len(graph)     # registriere für jeden Knoten den Vorgänger im Tiefensuchbaum\n",
    "    discovery_order = []            # enthält am Ende die pre-order Sortierung\n",
    "    finishing_order = []            # enthält am Ende die post-order Sortierung\n",
    "    \n",
    "    def visit(node, parent):        # rekursive Hilfsfunktion\n",
    "        if not visited[node]:       # besuche 'node', wenn noch nicht besucht wurde\n",
    "            visited[node] = True           # markiere 'node' als besucht\n",
    "            parents[node] = parent         # speichere den Vorgänger von 'node'\n",
    "            discovery_order.append(node)   # registriere, dass 'node' jetzt entdeckt wurde\n",
    "            for neighbor in graph[node]:   # besuche rekursiv die Nachbarn ...\n",
    "                visit(neighbor, node)      #  ... wobei 'node' zu deren Vorgänger wird\n",
    "            finishing_order.append(node)   # registriere, dass 'node' jetzt fertiggestellt wurde\n",
    "    \n",
    "    visit(startnode, None)          # beginne bei 'startnode', der keinen Vorgänger hat\n",
    "    \n",
    "    return parents, discovery_order, finishing_order # gib die zusätzliche Informationen zurück\n",
    "\n",
    "dfs_info(graph,1)"
   ]
  },
  {
   "cell_type": "code",
   "execution_count": 16,
   "metadata": {},
   "outputs": [
    {
     "data": {
      "text/plain": [
       "([None, 1, 1, 4, 2, 2, 3, 3], [1, 2, 4, 3, 6, 7, 5], [6, 7, 3, 4, 5, 2, 1])"
      ]
     },
     "execution_count": 16,
     "metadata": {},
     "output_type": "execute_result"
    }
   ],
   "source": [
    "def dfs_info(graph, startnode):\n",
    "    #visited = [False]*len(graph)   #* wurde ein Knoten bereits besucht?\n",
    "    parents = [None]*len(graph)     # registriere für jeden Knoten den Vorgänger im Tiefensuchbaum\n",
    "    discovery_order = []            # enthält am Ende die pre-order Sortierung\n",
    "    finishing_order = []            # enthält am Ende die post-order Sortierung\n",
    "    \n",
    "    def visit(node, parent):        # rekursive Hilfsfunktion\n",
    "        if parents[node] is None:       #* (== if not visited[node]) besuche 'node', wenn noch nicht besucht wurde \n",
    "            #visited[node] = True       #* markiere 'node' als besucht\n",
    "            parents[node] = parent         # speichere den Vorgänger von 'node'\n",
    "            discovery_order.append(node)   # registriere, dass 'node' jetzt entdeckt wurde\n",
    "            for neighbor in graph[node]:   # besuche rekursiv die Nachbarn ...\n",
    "                visit(neighbor, node)      #  ... wobei 'node' zu deren Vorgänger wird\n",
    "            finishing_order.append(node)   # registriere, dass 'node' jetzt fertiggestellt wurde\n",
    "    \n",
    "    visit(startnode, startnode)          #* beginne bei 'startnode', der sein eigener Vorgänger ist\n",
    "    \n",
    "    return parents, discovery_order, finishing_order # gib die zusätzliche Informationen zurück\n",
    "\n",
    "dfs_info(graph,1)"
   ]
  },
  {
   "cell_type": "code",
   "execution_count": 22,
   "metadata": {},
   "outputs": [
    {
     "name": "stdout",
     "output_type": "stream",
     "text": [
      "deque([1])\n",
      "deque([])\n",
      "deque([2])\n",
      "deque([2, 3])\n",
      "deque([3])\n",
      "deque([3, 4])\n",
      "deque([3, 4, 5])\n",
      "deque([4, 5])\n",
      "deque([4, 5, 6])\n",
      "deque([4, 5, 6, 7])\n",
      "deque([5, 6, 7])\n",
      "deque([6, 7])\n",
      "deque([7])\n",
      "deque([])\n"
     ]
    }
   ],
   "source": [
    "from collections import deque\n",
    "\n",
    "def bfs(graph, startnode):\n",
    "    parents = [None]*len(graph)            # speichere für jeden Knoten den Vorgänger im Breitensuchbaum\n",
    "    parents[startnode] = startnode         # Konvention: der Startknoten hat sich selbst als Vorgänger \n",
    "  \n",
    "    q = deque()                            # Queue für die zu besuchenden Knoten\n",
    "    q.append(startnode)                    # Startknoten in die Queue einfügen\n",
    "    print(q)\n",
    "    while len(q) > 0:                      # solange noch Knoten zu bearbeiten sind\n",
    "        node = q.popleft()                 # Knoten aus der Queue nehmen (first in - first out)\n",
    "        #print(node,end=', ')                        # den Knoten bearbeiten (hier: Knotennummer drucken)\n",
    "        print(q)\n",
    "        for neighbor in graph[node]:       # die Nachbarn expandieren\n",
    "            if parents[neighbor] is None:  # Nachbar wurde noch nicht besucht\n",
    "                parents[neighbor] = node   # => Vorgänger merken, Knoten dadurch als \"besucht\" markieren\n",
    "                q.append(neighbor)         #    und in die Queue aufnehmen\n",
    "                print(q)\n",
    "                \n",
    "bfs(graph,1)                "
   ]
  },
  {
   "cell_type": "code",
   "execution_count": 24,
   "metadata": {},
   "outputs": [
    {
     "data": {
      "text/plain": [
       "True"
      ]
     },
     "execution_count": 24,
     "metadata": {},
     "output_type": "execute_result"
    }
   ],
   "source": [
    "def undirected_cycle_test(graph):         # Annahme: der Graph ist zusammenhängend\n",
    "                                          # (andernfalls führe den Algorithmus für jede Zusammenhangskomponente aus)\n",
    "    visited = [False]*len(graph)          # Flags für bereits besuchte Knoten\n",
    "    \n",
    "    def visit(node, from_node):           # rekursive Hilfsfunktion: gibt True zurück, wenn Zyklus gefunden wurde\n",
    "        if not visited[node]:             # wenn node noch nicht besucht wurde\n",
    "            visited[node] = True          # markiere node als besucht\n",
    "            for neighbor in graph[node]:  # besuche die Nachbarn ...\n",
    "                if neighbor == from_node: # ... aber überspringe den Vaterknoten\n",
    "                    continue\n",
    "                if visit(neighbor, node): # ... signalisiere, wenn rekursiv ein Zyklus gefunden wurde\n",
    "                    return True\n",
    "            return False                  # kein Zyklus gefunden\n",
    "        else:\n",
    "            return True                   # Knoten schon besucht => Zyklus\n",
    "    \n",
    "    startnode = 0                         # starte bei beliebigem Knoten (hier: Knoten 0)\n",
    "    return visit(startnode, startnode)    # gebe True zurück, wenn ein Zyklus gefunden wurde\n",
    "\n",
    "graph_c=[[1,2], [0,3], [0, 3, 4, 5], [1,2], [2], [2]]\n",
    "graph_a=[[1,2], [0  ], [0, 3, 4, 5], [  2], [2], [2]]\n",
    "\n",
    "undirected_cycle_test(graph_c)"
   ]
  },
  {
   "cell_type": "code",
   "execution_count": 25,
   "metadata": {},
   "outputs": [
    {
     "data": {
      "text/plain": [
       "([0, 0, 0, 3, 3, 3, 3], [0, 0, 0, 1, 1, 1, 1])"
      ]
     },
     "execution_count": 25,
     "metadata": {},
     "output_type": "execute_result"
    }
   ],
   "source": [
    "def connectedComponents(graph):\n",
    "    anchors = [None] * len(graph)             # property map für Anker jedes Knotens\n",
    "    labels  = [None] * len(graph)             # property map für Label jedes Knotens\n",
    "       \n",
    "    def visit(node, anchor):\n",
    "        \"\"\"anchor ist der Anker der aktuellen ZK\"\"\"\n",
    "        if anchors[node] is None:         # wenn node noch nicht besucht wurde:\n",
    "            anchors[node] = anchor        # setze seinen Anker\n",
    "            labels[node] = labels[anchor] # und sein Label\n",
    "            for neighbor in graph[node]:  # und besuche die Nachbarn\n",
    "                visit(neighbor, anchor)\n",
    "       \n",
    "    current_label = 0                         # Zählung der ZK beginnt bei 0\n",
    "    for node in range(len(graph)):\n",
    "        if anchors[node] is None:             # Anker noch nicht bekannt => neue ZK gefunden\n",
    "            labels[node] = current_label      # Label des Ankers setzen\n",
    "            visit(node, node)                 # Knoten der neuen ZK rekursiv suchen\n",
    "            current_label += 1                # Label für die nächste ZK hochzählen\n",
    "    return anchors, labels\n",
    "    \n",
    "graph_2k = [[1], [0,2], [1],     [4,6], [3,5], [4], [3]]\n",
    "graph_1k = [[1], [0,2], [1,3], [2,4,6], [3,5], [4], [3]]\n",
    "\n",
    "connectedComponents(graph_2k)"
   ]
  }
 ],
 "metadata": {
  "kernelspec": {
   "display_name": "Python 3",
   "language": "python",
   "name": "python3"
  },
  "language_info": {
   "codemirror_mode": {
    "name": "ipython",
    "version": 3
   },
   "file_extension": ".py",
   "mimetype": "text/x-python",
   "name": "python",
   "nbconvert_exporter": "python",
   "pygments_lexer": "ipython3",
   "version": "3.7.1"
  }
 },
 "nbformat": 4,
 "nbformat_minor": 2
}
