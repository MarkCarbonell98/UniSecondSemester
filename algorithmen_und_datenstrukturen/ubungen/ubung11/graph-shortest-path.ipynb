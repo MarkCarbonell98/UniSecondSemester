{
 "cells": [
  {
   "cell_type": "code",
   "execution_count": 30,
   "metadata": {},
   "outputs": [
    {
     "name": "stdout",
     "output_type": "stream",
     "text": [
      "[0, 3, 0, 2, 1]\n",
      "[0, 2, 7, 4, -2]\n"
     ]
    },
    {
     "data": {
      "text/plain": [
       "[4, 1, 3, 2, 0]"
      ]
     },
     "execution_count": 30,
     "metadata": {},
     "output_type": "execute_result"
    }
   ],
   "source": [
    "graph  = [[1,2],[2,3, 4], [3,4], [ 1],[0,3]]\n",
    "weight = [[6,7],[8,5,-4],[-3,9], [-2],[2,7]]\n",
    "\n",
    "def getPath(u,parent):\n",
    "    if parent[u] == None:\n",
    "        raise Exception(\"Node is unreachable!\")\n",
    "        \n",
    "    path = [u]\n",
    "    \n",
    "    while parent[u]!=u:\n",
    "        path.append(parent[u])\n",
    "        u=parent[u]\n",
    "        \n",
    "    return path\n",
    "\n",
    "def BellmanFord(s,graph,weight,Dmax = 100000):\n",
    "    parent=[None]*len(graph) # init pfad pointers\n",
    "    parent[s]=s\n",
    "\n",
    "    d=[Dmax]*len(graph)  # init graph\n",
    "    d[s]=0\n",
    "\n",
    "\n",
    "    def relax(u,v,w):\n",
    "        if d[v] > d[u] + w:\n",
    "            d[v]=d[u] + w\n",
    "            parent[v] = u\n",
    "        \n",
    "    for i in range(len(graph)-1):            # |V|-1 Mal \n",
    "        for node in range(len(graph)):       # fuer alle Kanten\n",
    "            for j in range(len(graph[node])):\n",
    "                relax(node,graph[node][j],weight[node][j]) \n",
    "\n",
    "                \n",
    "               \n",
    "    for node in range(len(graph)):            # fuer alle Kanten \n",
    "            for j in range(len(graph[node])):            \n",
    "                if d[graph[node][j]] > d[node] + weight[node][j]:  # Relaxation Bedienung erfuellt?\n",
    "                    raise Exception (\"Graph has cycles with negativ weights!\")\n",
    "\n",
    "\n",
    "    return parent,d        \n",
    "\n",
    "parent, d = BellmanFord(0,graph,weight)\n",
    "print (parent)\n",
    "print (d)\n",
    "getPath(4,parent)\n",
    "    "
   ]
  },
  {
   "cell_type": "code",
   "execution_count": 36,
   "metadata": {},
   "outputs": [],
   "source": [
    "import heapq                  # heapq implementiert die Funktionen für Heaps\n",
    "   \n",
    "def dijkstra(graph, weights, startnode, destination):\n",
    "    parents = [None]*len(graph)       # registriere für jeden Knoten den Vaterknoten im Pfadbaum\n",
    "     \n",
    "    q = []                            # Array q wird als Heap verwendet\n",
    "    heapq.heappush(q, (0.0, startnode, startnode))  # Startknoten in Heap einfügen (length, node, predecessor)\n",
    "     \n",
    "    while len(q) > 0:                 # solange es noch Knoten im Heap gibt:\n",
    "        length, node, predecessor = heapq.heappop(q)   # Knoten aus dem Heap nehmen\n",
    "        if parents[node] is not None: # parent ist schon gesetzt => es gab einen anderen, kürzeren Weg\n",
    "            continue                  #   => wir können diesen Weg ignorieren\n",
    "        parents[node] = predecessor   # parent setzen\n",
    "        if node == destination:       # Zielknoten erreicht\n",
    "            break                     #   => Suche beenden\n",
    "        for neighbor in graph[node]:  # die Nachbarn von node besuchen,\n",
    "            if parents[neighbor] is None:   # aber nur, wenn ihr kürzester Weg noch nicht bekannt ist\n",
    "                newLength = length + weights[(node,neighbor)]   # berechne Pfadlänge zu neighbor              \n",
    "                heapq.heappush(q, (newLength, neighbor, node))  # und füge neighbor in den Heap ein\n",
    "     \n",
    "    if parents[destination] is None:  # Suche wurde beendet ohne den Zielknoten zu besuchen\n",
    "        return None, None             # => kein Pfad gefunden (unzusammenhängender Graph)\n",
    "     \n",
    "     # Pfad durch die parents-Kette zurückverfolgen und speichern\n",
    "    path = [destination]\n",
    "    while path[-1] != startnode:\n",
    "        path.append(parents[path[-1]])\n",
    "    path.reverse()                    # Reihenfolge umdrehen (Ziel => Start wird zu Start => Ziel)\n",
    "    return path, length               # gefundenen Pfad und dessen Länge zurückgeben"
   ]
  },
  {
   "cell_type": "code",
   "execution_count": 37,
   "metadata": {},
   "outputs": [
    {
     "data": {
      "text/plain": [
       "([0, 2, 3], 5.0)"
      ]
     },
     "execution_count": 37,
     "metadata": {},
     "output_type": "execute_result"
    }
   ],
   "source": [
    "graph   = [[1,2],[3],[3],[]]\n",
    "weights = {(0,1):1,(0,2):3,(1,3):7,(2,3):2}\n",
    "dijkstra(graph,weights,0,3)"
   ]
  }
 ],
 "metadata": {
  "kernelspec": {
   "display_name": "Python 3",
   "language": "python",
   "name": "python3"
  },
  "language_info": {
   "codemirror_mode": {
    "name": "ipython",
    "version": 3
   },
   "file_extension": ".py",
   "mimetype": "text/x-python",
   "name": "python",
   "nbconvert_exporter": "python",
   "pygments_lexer": "ipython3",
   "version": "3.7.1"
  }
 },
 "nbformat": 4,
 "nbformat_minor": 2
}
