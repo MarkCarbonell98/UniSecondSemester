{
 "cells": [
  {
   "cell_type": "code",
   "execution_count": 22,
   "metadata": {},
   "outputs": [
    {
     "data": {
      "text/plain": [
       "[8, 5, 6, 3, 0, 1, 4, 7, 2]"
      ]
     },
     "execution_count": 22,
     "metadata": {},
     "output_type": "execute_result"
    }
   ],
   "source": [
    "def reverse_post_order(graph):               # \n",
    "    ''' = toposort  für einen gerichteten azyklischen Graphen '''\n",
    "    result = []                              # enthält später die reverse post-order = topologische Sortierung\n",
    "    visited = [False]*len(graph)             # Flags für bereits besuchte Knoten\n",
    "    \n",
    "    def visit(node):                         # besuche node\n",
    "        if not visited[node]:                # aber nur, wenn er noch nicht besucht wurde\n",
    "            visited[node] = True             # markiere ihn als besucht\n",
    "            for neighbor in graph[node]:     # und besuche die Nachbarn\n",
    "                visit(neighbor)\n",
    "            result.append(node)              # alle Nachbarn besucht => Anhängen an result liefert post-order\n",
    "    \n",
    "    for node in range(len(graph)):           # besuche alle Knoten\n",
    "        visit(node)\n",
    "    \n",
    "    result.reverse()                         # post-order => reverse post-order\n",
    "    return result\n",
    "\n",
    "graph_dag = [[1,2],[2,4],[],[2],[7],[4,6],[7],[],[]]\n",
    "\n",
    "reverse_post_order(graph_dag)"
   ]
  },
  {
   "cell_type": "code",
   "execution_count": 23,
   "metadata": {},
   "outputs": [
    {
     "data": {
      "text/plain": [
       "[[], [0], [0, 1, 3], [], [1, 5], [], [5], [4, 6], []]"
      ]
     },
     "execution_count": 23,
     "metadata": {},
     "output_type": "execute_result"
    }
   ],
   "source": [
    "def transposeGraph(graph):\n",
    "    gt = [[] for k in graph]   # zunächst leere Adjazenzlisten von GT\n",
    "    for node in range(len(graph)):\n",
    "        for neighbor in graph[node]:\n",
    "            gt[neighbor].append(node)  # füge die umgekehrte Kante in GT ein\n",
    "    return gt\n",
    "\n",
    "transposeGraph(graph_dag)"
   ]
  },
  {
   "cell_type": "code",
   "execution_count": 15,
   "metadata": {},
   "outputs": [
    {
     "name": "stdout",
     "output_type": "stream",
     "text": [
      "[0, 1, 4, 2, 6, 5, 3, 7]\n",
      "[[4], [0], [1, 3], [2], [1], [1, 4, 6], [2, 5], [3, 6, 7]]\n"
     ]
    }
   ],
   "source": [
    "graph = [[1],[2,4,5],[3,6],[2,7],[0,5],[6],[5,7],[7]]\n",
    "\n",
    "rpo = reverse_post_order(graph)\n",
    "print(rpo)\n",
    "graphT = transposeGraph(graph)\n",
    "print(graphT)"
   ]
  },
  {
   "cell_type": "code",
   "execution_count": 25,
   "metadata": {},
   "outputs": [
    {
     "data": {
      "text/plain": [
       "[0, 0, 2, 2, 0, 6, 6, 7]"
      ]
     },
     "execution_count": 25,
     "metadata": {},
     "output_type": "execute_result"
    }
   ],
   "source": [
    "def _stronglyConnectedComponents(graphT,rpo):\n",
    "    anchors = [None] * len(graphT)             # property map für Anker jedes Knotens\n",
    "\n",
    "    def visit(node, anchor):\n",
    "        \"\"\"anchor ist der Anker der aktuellen ZK\"\"\"\n",
    "        if anchors[node] is None:         # wenn node noch nicht besucht wurde:\n",
    "            anchors[node] = anchor        # setze seinen Anker\n",
    "            for neighbor in graphT[node]:  # und besuche die Nachbarn\n",
    "                visit(neighbor, anchor)\n",
    "       \n",
    "    for node in rpo:\n",
    "        if anchors[node] is None:             # Anker noch nicht bekannt => neue ZK gefunden\n",
    "            visit(node, node)                 # Knoten der neuen ZK rekursiv suchen\n",
    "\n",
    "    return anchors\n",
    "\n",
    "def stronglyConnectedComponents(graph):\n",
    "    return _stronglyConnectedComponents(transposeGraph(graph),reverse_post_order(graph))\n",
    "\n",
    "stronglyConnectedComponents(graph)"
   ]
  },
  {
   "cell_type": "code",
   "execution_count": 26,
   "metadata": {},
   "outputs": [
    {
     "name": "stdout",
     "output_type": "stream",
     "text": [
      "[7, 8, 0, 1, 4, 5, 6, 2, 3]\n",
      "[[4], [0], [1, 3, 6], [2, 7], [1], [1, 4, 6], [5, 7], [7, 8], [7]]\n"
     ]
    },
    {
     "data": {
      "text/plain": [
       "[0, 0, 2, 2, 0, 5, 5, 7, 7]"
      ]
     },
     "execution_count": 26,
     "metadata": {},
     "output_type": "execute_result"
    }
   ],
   "source": [
    "graph2 =[[1],[2,4,5],[3],[2],[0,5],[6],[5,2],[3,6,7,8],[7]]\n",
    "\n",
    "rpo = reverse_post_order(graph2)\n",
    "print(rpo)\n",
    "graphT = transposeGraph(graph2)\n",
    "print(graphT)\n",
    "\n",
    "stronglyConnectedComponents(graph2)"
   ]
  }
 ],
 "metadata": {
  "kernelspec": {
   "display_name": "Python 3",
   "language": "python",
   "name": "python3"
  },
  "language_info": {
   "codemirror_mode": {
    "name": "ipython",
    "version": 3
   },
   "file_extension": ".py",
   "mimetype": "text/x-python",
   "name": "python",
   "nbconvert_exporter": "python",
   "pygments_lexer": "ipython3",
   "version": "3.7.1"
  }
 },
 "nbformat": 4,
 "nbformat_minor": 2
}
